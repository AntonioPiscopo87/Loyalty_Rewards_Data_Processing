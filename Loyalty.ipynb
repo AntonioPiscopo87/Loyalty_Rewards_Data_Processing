{
  "nbformat": 4,
  "nbformat_minor": 0,
  "metadata": {
    "colab": {
      "provenance": [],
      "include_colab_link": true
    },
    "kernelspec": {
      "name": "python3",
      "display_name": "Python 3"
    }
  },
  "cells": [
    {
      "cell_type": "markdown",
      "metadata": {
        "id": "view-in-github",
        "colab_type": "text"
      },
      "source": [
        "<a href=\"https://colab.research.google.com/github/AntonioPiscopo87/Loyalty_Rewards_Subscription_Model/blob/main/Loyalty.ipynb\" target=\"_parent\"><img src=\"https://colab.research.google.com/assets/colab-badge.svg\" alt=\"Open In Colab\"/></a>"
      ]
    },
    {
      "cell_type": "code",
      "metadata": {
        "colab": {
          "base_uri": "https://localhost:8080/"
        },
        "id": "rYk-IfWmDmdG",
        "outputId": "e7e8d5d6-5340-4637-a86b-295669a59e08"
      },
      "source": [
        "from google.colab import drive\n",
        "drive.mount('/content/drive')"
      ],
      "execution_count": 2,
      "outputs": [
        {
          "output_type": "stream",
          "name": "stdout",
          "text": [
            "Mounted at /content/drive\n"
          ]
        }
      ]
    },
    {
      "cell_type": "code",
      "metadata": {
        "id": "zh-8W5MQHpMa"
      },
      "source": [
        "from google.colab import files"
      ],
      "execution_count": 3,
      "outputs": []
    },
    {
      "cell_type": "code",
      "metadata": {
        "colab": {
          "base_uri": "https://localhost:8080/"
        },
        "id": "aicWauGGEFk2",
        "outputId": "7733792d-9250-47d6-ff38-ed0303ab167a"
      },
      "source": [
        "import os\n",
        "import pandas as pd\n",
        "from dateutil.relativedelta import relativedelta\n",
        "from tqdm import tqdm\n",
        "\n",
        "name_of_folder = input(\"Enter Name of the folder: \")\n",
        "path = \"/content/drive/MyDrive/Loyalty_Rewards/RowData/\"+ name_of_folder\n",
        "\n",
        "# Getting all the file names from the folder\n",
        "filesnames = os.listdir(path)\n",
        "\n",
        "# Creating empty dataframe for the consolidation\n",
        "cols = [\"Name\",\"Email\",\"Charge Status\"]\n",
        "\n",
        "\n",
        "consolidated_data = pd.DataFrame(columns=[\"Name\",\"Email\",\"Charge Status\",\"Month_Year\"])\n",
        "\n",
        "for name in filesnames:\n",
        "    Month_Year = name[:6]\n",
        "    #print(Month_Year)\n",
        "    temp_df = pd.read_csv(path+\"/\"+name)\n",
        "    #if len(temp_df.columns)>=23:\n",
        "        #temp_df.rename(columns = {'Lifetime Amount': 'Lifetime $', 'Pledge Amount': 'Pledge $'}, inplace = True)\n",
        "    temp_df = temp_df[cols]\n",
        "    temp_df[\"Month_Year\"] = Month_Year\n",
        "    temp_df = temp_df[temp_df[\"Charge Status\"] == \"Paid\"]\n",
        "    #\n",
        "    consolidated_data = pd.concat([temp_df,consolidated_data])\n",
        "\n",
        "data = pd.crosstab(consolidated_data.Email, consolidated_data.Month_Year).T.reset_index()\n",
        "data.Month_Year = pd.to_datetime(data.Month_Year, format=\"%b %y\")\n",
        "\n",
        "data.reset_index(drop=True, inplace=True)\n",
        "\n",
        "\n",
        "startDate = min(data.Month_Year)\n",
        "endDate = max(data.Month_Year)\n",
        "\n",
        "cur_date = startDate\n",
        "end = endDate\n",
        "inData_date = list(data.Month_Year)\n",
        "actual_date = []\n",
        "while cur_date <= end:\n",
        "    actual_date.append(cur_date)\n",
        "    cur_date += relativedelta(months=1)\n",
        "\n",
        "\n",
        "missing_date = [val for val in actual_date if val not in inData_date]\n",
        "\n",
        "data = data.set_index(\"Month_Year\").T\n",
        "\n",
        "if len(missing_date)>0:\n",
        "    for d in missing_date:\n",
        "        data[d] = 0\n",
        "else:\n",
        "    pass\n",
        "\n",
        "data = data.T.reset_index()\n",
        "data = data.sort_values(by='Month_Year')\n",
        "\n",
        "def date_month(x):\n",
        "    return x.strftime(\"%b-%Y\")\n",
        "data.Month_Year = data.Month_Year.apply(date_month)\n",
        "data.set_index(\"Month_Year\", inplace = True)\n",
        "\n",
        "rolling_values = [x for x in range(3,len(data.iloc[:,1]),3)]\n",
        "\n",
        "Loyalty_Reward = []\n",
        "\n",
        "\n",
        "for column in tqdm(data):\n",
        "    #abc[column]\n",
        "    temp_list = []\n",
        "    bucket = []\n",
        "    temp_list.append(column)\n",
        "    for roll in rolling_values:\n",
        "        if any(list(data[column].rolling(roll).sum()==roll)):\n",
        "            bucket.append(str(roll)+\" Months\")\n",
        "        else:\n",
        "            bucket.append(\"\")\n",
        "    try:\n",
        "        last_subscription = [i for i in bucket if i][-1]\n",
        "    except:\n",
        "        last_subscription = \"\"\n",
        "    temp_list.append(bucket)\n",
        "    temp_list.append(last_subscription)\n",
        "    Loyalty_Reward.append(temp_list)\n",
        "\n",
        "Loyalty_Reward_Buckets = pd.DataFrame(Loyalty_Reward).rename(columns={0:\"Email\", 1:\"All Bucket\", 2:\"Loyalty Reward\"})\n",
        "Loyalty_Reward_Buckets = pd.merge(Loyalty_Reward_Buckets, consolidated_data[[\"Email\",\"Name\"]].drop_duplicates(['Email']),\n",
        "         on='Email')[[\"Name\",\"Email\",\"All Bucket\",\"Loyalty Reward\"]]\n",
        "Loyalty_Reward_Buckets.to_csv(str(name_of_folder)+\"_Loyalty_Reward_Buckets.csv\", index=False)\n",
        "print(\"Done\")\n",
        "\n"
      ],
      "execution_count": 4,
      "outputs": [
        {
          "name": "stdout",
          "output_type": "stream",
          "text": [
            "Enter Name of the folder: Archvillain\n"
          ]
        },
        {
          "output_type": "stream",
          "name": "stderr",
          "text": [
            "4872it [00:01, 2950.58it/s]"
          ]
        },
        {
          "output_type": "stream",
          "name": "stdout",
          "text": [
            "Done\n"
          ]
        },
        {
          "output_type": "stream",
          "name": "stderr",
          "text": [
            "\n"
          ]
        }
      ]
    },
    {
      "cell_type": "code",
      "metadata": {
        "colab": {
          "base_uri": "https://localhost:8080/",
          "height": 17
        },
        "id": "8mp6fdb7FYhN",
        "outputId": "2cb5d8b4-1116-4819-b1bb-8703d72649c6"
      },
      "source": [
        "files.download(str(name_of_folder)+\"_Loyalty_Reward_Buckets.csv\")"
      ],
      "execution_count": 5,
      "outputs": [
        {
          "output_type": "display_data",
          "data": {
            "text/plain": [
              "<IPython.core.display.Javascript object>"
            ],
            "application/javascript": [
              "\n",
              "    async function download(id, filename, size) {\n",
              "      if (!google.colab.kernel.accessAllowed) {\n",
              "        return;\n",
              "      }\n",
              "      const div = document.createElement('div');\n",
              "      const label = document.createElement('label');\n",
              "      label.textContent = `Downloading \"${filename}\": `;\n",
              "      div.appendChild(label);\n",
              "      const progress = document.createElement('progress');\n",
              "      progress.max = size;\n",
              "      div.appendChild(progress);\n",
              "      document.body.appendChild(div);\n",
              "\n",
              "      const buffers = [];\n",
              "      let downloaded = 0;\n",
              "\n",
              "      const channel = await google.colab.kernel.comms.open(id);\n",
              "      // Send a message to notify the kernel that we're ready.\n",
              "      channel.send({})\n",
              "\n",
              "      for await (const message of channel.messages) {\n",
              "        // Send a message to notify the kernel that we're ready.\n",
              "        channel.send({})\n",
              "        if (message.buffers) {\n",
              "          for (const buffer of message.buffers) {\n",
              "            buffers.push(buffer);\n",
              "            downloaded += buffer.byteLength;\n",
              "            progress.value = downloaded;\n",
              "          }\n",
              "        }\n",
              "      }\n",
              "      const blob = new Blob(buffers, {type: 'application/binary'});\n",
              "      const a = document.createElement('a');\n",
              "      a.href = window.URL.createObjectURL(blob);\n",
              "      a.download = filename;\n",
              "      div.appendChild(a);\n",
              "      a.click();\n",
              "      div.remove();\n",
              "    }\n",
              "  "
            ]
          },
          "metadata": {}
        },
        {
          "output_type": "display_data",
          "data": {
            "text/plain": [
              "<IPython.core.display.Javascript object>"
            ],
            "application/javascript": [
              "download(\"download_9c496839-ef16-442b-bbd0-2624d8dc9580\", \"Archvillain_Loyalty_Reward_Buckets.csv\", 250243)"
            ]
          },
          "metadata": {}
        }
      ]
    }
  ]
}